{
 "cells": [
  {
   "cell_type": "markdown",
   "metadata": {},
   "source": [
    "# Example code\n",
    "\n",
    "This example shows how to load/visualize dataset, how to decide features & targets, how to prepare training data and how to choose a ML algorithm to train a prediction model with Scikit-Learn.\n"
   ]
  },
  {
   "cell_type": "code",
   "execution_count": 1,
   "metadata": {},
   "outputs": [],
   "source": [
    "import os\n",
    "import pandas as pd\n",
    "import numpy as np\n",
    "from matplotlib import pyplot as plt\n",
    "pd.set_option('display.max_rows', 500)"
   ]
  },
  {
   "cell_type": "markdown",
   "metadata": {},
   "source": [
    "# Data preparation\n"
   ]
  },
  {
   "cell_type": "markdown",
   "metadata": {},
   "source": [
    "### 1. Features: pln_weather_2021\n",
    "Load raw weather observation dataset and pack according to days"
   ]
  },
  {
   "cell_type": "code",
   "execution_count": 2,
   "metadata": {
    "scrolled": false
   },
   "outputs": [
    {
     "data": {
      "text/html": [
       "<div>\n",
       "<style scoped>\n",
       "    .dataframe tbody tr th:only-of-type {\n",
       "        vertical-align: middle;\n",
       "    }\n",
       "\n",
       "    .dataframe tbody tr th {\n",
       "        vertical-align: top;\n",
       "    }\n",
       "\n",
       "    .dataframe thead th {\n",
       "        text-align: right;\n",
       "    }\n",
       "</style>\n",
       "<table border=\"1\" class=\"dataframe\">\n",
       "  <thead>\n",
       "    <tr style=\"text-align: right;\">\n",
       "      <th></th>\n",
       "      <th>id</th>\n",
       "      <th>atmospheric_pressure_quality</th>\n",
       "      <th>atmospheric_pressure_value</th>\n",
       "      <th>humidity_level_quality</th>\n",
       "      <th>humidity_level_value</th>\n",
       "      <th>nmt</th>\n",
       "      <th>rain_intensity_quality</th>\n",
       "      <th>rain_intensity_value</th>\n",
       "      <th>temperature_quality</th>\n",
       "      <th>temperature_value</th>\n",
       "      <th>wind_direction_quality</th>\n",
       "      <th>wind_direction_value</th>\n",
       "      <th>wind_speed_quality</th>\n",
       "      <th>wind_speed_value</th>\n",
       "    </tr>\n",
       "    <tr>\n",
       "      <th>record_time</th>\n",
       "      <th></th>\n",
       "      <th></th>\n",
       "      <th></th>\n",
       "      <th></th>\n",
       "      <th></th>\n",
       "      <th></th>\n",
       "      <th></th>\n",
       "      <th></th>\n",
       "      <th></th>\n",
       "      <th></th>\n",
       "      <th></th>\n",
       "      <th></th>\n",
       "      <th></th>\n",
       "      <th></th>\n",
       "    </tr>\n",
       "  </thead>\n",
       "  <tbody>\n",
       "    <tr>\n",
       "      <th>2021-01-01 00:10:00</th>\n",
       "      <td>570148</td>\n",
       "      <td>100.0</td>\n",
       "      <td>1006.7</td>\n",
       "      <td>100.0</td>\n",
       "      <td>71.5</td>\n",
       "      <td>NMT5</td>\n",
       "      <td>100</td>\n",
       "      <td>0.0</td>\n",
       "      <td>100.0</td>\n",
       "      <td>8.3</td>\n",
       "      <td>100</td>\n",
       "      <td>295.2</td>\n",
       "      <td>100</td>\n",
       "      <td>3.0</td>\n",
       "    </tr>\n",
       "    <tr>\n",
       "      <th>2021-01-01 00:10:00</th>\n",
       "      <td>570040</td>\n",
       "      <td>100.0</td>\n",
       "      <td>1006.7</td>\n",
       "      <td>100.0</td>\n",
       "      <td>71.5</td>\n",
       "      <td>NMT5</td>\n",
       "      <td>100</td>\n",
       "      <td>0.0</td>\n",
       "      <td>100.0</td>\n",
       "      <td>8.3</td>\n",
       "      <td>100</td>\n",
       "      <td>295.2</td>\n",
       "      <td>100</td>\n",
       "      <td>3.0</td>\n",
       "    </tr>\n",
       "    <tr>\n",
       "      <th>2021-01-01 00:10:00</th>\n",
       "      <td>569115</td>\n",
       "      <td>100.0</td>\n",
       "      <td>1006.7</td>\n",
       "      <td>100.0</td>\n",
       "      <td>71.5</td>\n",
       "      <td>NMT5</td>\n",
       "      <td>100</td>\n",
       "      <td>0.0</td>\n",
       "      <td>100.0</td>\n",
       "      <td>8.3</td>\n",
       "      <td>100</td>\n",
       "      <td>295.2</td>\n",
       "      <td>100</td>\n",
       "      <td>3.0</td>\n",
       "    </tr>\n",
       "    <tr>\n",
       "      <th>2021-01-01 00:10:00</th>\n",
       "      <td>569721</td>\n",
       "      <td>100.0</td>\n",
       "      <td>1006.7</td>\n",
       "      <td>100.0</td>\n",
       "      <td>71.5</td>\n",
       "      <td>NMT5</td>\n",
       "      <td>100</td>\n",
       "      <td>0.0</td>\n",
       "      <td>100.0</td>\n",
       "      <td>8.3</td>\n",
       "      <td>100</td>\n",
       "      <td>295.2</td>\n",
       "      <td>100</td>\n",
       "      <td>3.0</td>\n",
       "    </tr>\n",
       "    <tr>\n",
       "      <th>2021-01-01 00:10:00</th>\n",
       "      <td>569259</td>\n",
       "      <td>100.0</td>\n",
       "      <td>1006.7</td>\n",
       "      <td>100.0</td>\n",
       "      <td>71.5</td>\n",
       "      <td>NMT5</td>\n",
       "      <td>100</td>\n",
       "      <td>0.0</td>\n",
       "      <td>100.0</td>\n",
       "      <td>8.3</td>\n",
       "      <td>100</td>\n",
       "      <td>295.2</td>\n",
       "      <td>100</td>\n",
       "      <td>3.0</td>\n",
       "    </tr>\n",
       "    <tr>\n",
       "      <th>...</th>\n",
       "      <td>...</td>\n",
       "      <td>...</td>\n",
       "      <td>...</td>\n",
       "      <td>...</td>\n",
       "      <td>...</td>\n",
       "      <td>...</td>\n",
       "      <td>...</td>\n",
       "      <td>...</td>\n",
       "      <td>...</td>\n",
       "      <td>...</td>\n",
       "      <td>...</td>\n",
       "      <td>...</td>\n",
       "      <td>...</td>\n",
       "      <td>...</td>\n",
       "    </tr>\n",
       "    <tr>\n",
       "      <th>2021-09-14 05:50:00</th>\n",
       "      <td>906794</td>\n",
       "      <td>100.0</td>\n",
       "      <td>1012.8</td>\n",
       "      <td>100.0</td>\n",
       "      <td>91.2</td>\n",
       "      <td>NMT5</td>\n",
       "      <td>100</td>\n",
       "      <td>0.0</td>\n",
       "      <td>100.0</td>\n",
       "      <td>22.6</td>\n",
       "      <td>100</td>\n",
       "      <td>123.2</td>\n",
       "      <td>100</td>\n",
       "      <td>0.8</td>\n",
       "    </tr>\n",
       "    <tr>\n",
       "      <th>2021-09-14 05:50:00</th>\n",
       "      <td>906758</td>\n",
       "      <td>100.0</td>\n",
       "      <td>1012.8</td>\n",
       "      <td>100.0</td>\n",
       "      <td>91.2</td>\n",
       "      <td>NMT5</td>\n",
       "      <td>100</td>\n",
       "      <td>0.0</td>\n",
       "      <td>100.0</td>\n",
       "      <td>22.6</td>\n",
       "      <td>100</td>\n",
       "      <td>123.2</td>\n",
       "      <td>100</td>\n",
       "      <td>0.8</td>\n",
       "    </tr>\n",
       "    <tr>\n",
       "      <th>2021-09-14 05:50:00</th>\n",
       "      <td>906650</td>\n",
       "      <td>100.0</td>\n",
       "      <td>1012.8</td>\n",
       "      <td>100.0</td>\n",
       "      <td>91.2</td>\n",
       "      <td>NMT5</td>\n",
       "      <td>100</td>\n",
       "      <td>0.0</td>\n",
       "      <td>100.0</td>\n",
       "      <td>22.6</td>\n",
       "      <td>100</td>\n",
       "      <td>123.2</td>\n",
       "      <td>100</td>\n",
       "      <td>0.8</td>\n",
       "    </tr>\n",
       "    <tr>\n",
       "      <th>2021-09-14 05:50:00</th>\n",
       "      <td>906722</td>\n",
       "      <td>100.0</td>\n",
       "      <td>1012.8</td>\n",
       "      <td>100.0</td>\n",
       "      <td>91.2</td>\n",
       "      <td>NMT5</td>\n",
       "      <td>100</td>\n",
       "      <td>0.0</td>\n",
       "      <td>100.0</td>\n",
       "      <td>22.6</td>\n",
       "      <td>100</td>\n",
       "      <td>123.2</td>\n",
       "      <td>100</td>\n",
       "      <td>0.8</td>\n",
       "    </tr>\n",
       "    <tr>\n",
       "      <th>2021-09-14 05:50:00</th>\n",
       "      <td>906686</td>\n",
       "      <td>100.0</td>\n",
       "      <td>1012.8</td>\n",
       "      <td>100.0</td>\n",
       "      <td>91.2</td>\n",
       "      <td>NMT5</td>\n",
       "      <td>100</td>\n",
       "      <td>0.0</td>\n",
       "      <td>100.0</td>\n",
       "      <td>22.6</td>\n",
       "      <td>100</td>\n",
       "      <td>123.2</td>\n",
       "      <td>100</td>\n",
       "      <td>0.8</td>\n",
       "    </tr>\n",
       "  </tbody>\n",
       "</table>\n",
       "<p>337702 rows × 14 columns</p>\n",
       "</div>"
      ],
      "text/plain": [
       "                         id  atmospheric_pressure_quality  \\\n",
       "record_time                                                 \n",
       "2021-01-01 00:10:00  570148                         100.0   \n",
       "2021-01-01 00:10:00  570040                         100.0   \n",
       "2021-01-01 00:10:00  569115                         100.0   \n",
       "2021-01-01 00:10:00  569721                         100.0   \n",
       "2021-01-01 00:10:00  569259                         100.0   \n",
       "...                     ...                           ...   \n",
       "2021-09-14 05:50:00  906794                         100.0   \n",
       "2021-09-14 05:50:00  906758                         100.0   \n",
       "2021-09-14 05:50:00  906650                         100.0   \n",
       "2021-09-14 05:50:00  906722                         100.0   \n",
       "2021-09-14 05:50:00  906686                         100.0   \n",
       "\n",
       "                     atmospheric_pressure_value  humidity_level_quality  \\\n",
       "record_time                                                               \n",
       "2021-01-01 00:10:00                      1006.7                   100.0   \n",
       "2021-01-01 00:10:00                      1006.7                   100.0   \n",
       "2021-01-01 00:10:00                      1006.7                   100.0   \n",
       "2021-01-01 00:10:00                      1006.7                   100.0   \n",
       "2021-01-01 00:10:00                      1006.7                   100.0   \n",
       "...                                         ...                     ...   \n",
       "2021-09-14 05:50:00                      1012.8                   100.0   \n",
       "2021-09-14 05:50:00                      1012.8                   100.0   \n",
       "2021-09-14 05:50:00                      1012.8                   100.0   \n",
       "2021-09-14 05:50:00                      1012.8                   100.0   \n",
       "2021-09-14 05:50:00                      1012.8                   100.0   \n",
       "\n",
       "                     humidity_level_value   nmt  rain_intensity_quality  \\\n",
       "record_time                                                               \n",
       "2021-01-01 00:10:00                  71.5  NMT5                     100   \n",
       "2021-01-01 00:10:00                  71.5  NMT5                     100   \n",
       "2021-01-01 00:10:00                  71.5  NMT5                     100   \n",
       "2021-01-01 00:10:00                  71.5  NMT5                     100   \n",
       "2021-01-01 00:10:00                  71.5  NMT5                     100   \n",
       "...                                   ...   ...                     ...   \n",
       "2021-09-14 05:50:00                  91.2  NMT5                     100   \n",
       "2021-09-14 05:50:00                  91.2  NMT5                     100   \n",
       "2021-09-14 05:50:00                  91.2  NMT5                     100   \n",
       "2021-09-14 05:50:00                  91.2  NMT5                     100   \n",
       "2021-09-14 05:50:00                  91.2  NMT5                     100   \n",
       "\n",
       "                     rain_intensity_value  temperature_quality  \\\n",
       "record_time                                                      \n",
       "2021-01-01 00:10:00                   0.0                100.0   \n",
       "2021-01-01 00:10:00                   0.0                100.0   \n",
       "2021-01-01 00:10:00                   0.0                100.0   \n",
       "2021-01-01 00:10:00                   0.0                100.0   \n",
       "2021-01-01 00:10:00                   0.0                100.0   \n",
       "...                                   ...                  ...   \n",
       "2021-09-14 05:50:00                   0.0                100.0   \n",
       "2021-09-14 05:50:00                   0.0                100.0   \n",
       "2021-09-14 05:50:00                   0.0                100.0   \n",
       "2021-09-14 05:50:00                   0.0                100.0   \n",
       "2021-09-14 05:50:00                   0.0                100.0   \n",
       "\n",
       "                     temperature_value  wind_direction_quality  \\\n",
       "record_time                                                      \n",
       "2021-01-01 00:10:00                8.3                     100   \n",
       "2021-01-01 00:10:00                8.3                     100   \n",
       "2021-01-01 00:10:00                8.3                     100   \n",
       "2021-01-01 00:10:00                8.3                     100   \n",
       "2021-01-01 00:10:00                8.3                     100   \n",
       "...                                ...                     ...   \n",
       "2021-09-14 05:50:00               22.6                     100   \n",
       "2021-09-14 05:50:00               22.6                     100   \n",
       "2021-09-14 05:50:00               22.6                     100   \n",
       "2021-09-14 05:50:00               22.6                     100   \n",
       "2021-09-14 05:50:00               22.6                     100   \n",
       "\n",
       "                     wind_direction_value  wind_speed_quality  \\\n",
       "record_time                                                     \n",
       "2021-01-01 00:10:00                 295.2                 100   \n",
       "2021-01-01 00:10:00                 295.2                 100   \n",
       "2021-01-01 00:10:00                 295.2                 100   \n",
       "2021-01-01 00:10:00                 295.2                 100   \n",
       "2021-01-01 00:10:00                 295.2                 100   \n",
       "...                                   ...                 ...   \n",
       "2021-09-14 05:50:00                 123.2                 100   \n",
       "2021-09-14 05:50:00                 123.2                 100   \n",
       "2021-09-14 05:50:00                 123.2                 100   \n",
       "2021-09-14 05:50:00                 123.2                 100   \n",
       "2021-09-14 05:50:00                 123.2                 100   \n",
       "\n",
       "                     wind_speed_value  \n",
       "record_time                            \n",
       "2021-01-01 00:10:00               3.0  \n",
       "2021-01-01 00:10:00               3.0  \n",
       "2021-01-01 00:10:00               3.0  \n",
       "2021-01-01 00:10:00               3.0  \n",
       "2021-01-01 00:10:00               3.0  \n",
       "...                               ...  \n",
       "2021-09-14 05:50:00               0.8  \n",
       "2021-09-14 05:50:00               0.8  \n",
       "2021-09-14 05:50:00               0.8  \n",
       "2021-09-14 05:50:00               0.8  \n",
       "2021-09-14 05:50:00               0.8  \n",
       "\n",
       "[337702 rows x 14 columns]"
      ]
     },
     "execution_count": 2,
     "metadata": {},
     "output_type": "execute_result"
    }
   ],
   "source": [
    "# Load csv file\n",
    "weather_raw = pd.read_csv('2021_data/pln_weather_2021.csv', header=0)\n",
    "# Set \"record_time\" as index and sort\n",
    "weather_raw[\"record_time\"] = pd.to_datetime(weather_raw[\"record_time\"])\n",
    "weather_raw = weather_raw.sort_values(by = 'record_time')\n",
    "weather_raw = weather_raw.set_index(\"record_time\") \n",
    "weather_raw"
   ]
  },
  {
   "cell_type": "markdown",
   "metadata": {},
   "source": [
    "We are interested in certains features and will use them to predict air quality."
   ]
  },
  {
   "cell_type": "code",
   "execution_count": 3,
   "metadata": {},
   "outputs": [],
   "source": [
    "weather_features = [\"atmospheric_pressure_value\",\n",
    "            \"humidity_level_value\",\n",
    "            \"rain_intensity_value\",\n",
    "            \"temperature_value\", \n",
    "            \"wind_direction_value\", \n",
    "            \"wind_speed_value\"]"
   ]
  },
  {
   "cell_type": "code",
   "execution_count": 4,
   "metadata": {},
   "outputs": [
    {
     "data": {
      "text/html": [
       "<div>\n",
       "<style scoped>\n",
       "    .dataframe tbody tr th:only-of-type {\n",
       "        vertical-align: middle;\n",
       "    }\n",
       "\n",
       "    .dataframe tbody tr th {\n",
       "        vertical-align: top;\n",
       "    }\n",
       "\n",
       "    .dataframe thead th {\n",
       "        text-align: right;\n",
       "    }\n",
       "</style>\n",
       "<table border=\"1\" class=\"dataframe\">\n",
       "  <thead>\n",
       "    <tr style=\"text-align: right;\">\n",
       "      <th></th>\n",
       "      <th>atmospheric_pressure_value</th>\n",
       "      <th>humidity_level_value</th>\n",
       "      <th>rain_intensity_value</th>\n",
       "      <th>temperature_value</th>\n",
       "      <th>wind_direction_value</th>\n",
       "      <th>wind_speed_value</th>\n",
       "    </tr>\n",
       "    <tr>\n",
       "      <th>record_time</th>\n",
       "      <th></th>\n",
       "      <th></th>\n",
       "      <th></th>\n",
       "      <th></th>\n",
       "      <th></th>\n",
       "      <th></th>\n",
       "    </tr>\n",
       "  </thead>\n",
       "  <tbody>\n",
       "    <tr>\n",
       "      <th>2021-01-01 00:10:00</th>\n",
       "      <td>1006.7</td>\n",
       "      <td>71.5</td>\n",
       "      <td>0.0</td>\n",
       "      <td>8.3</td>\n",
       "      <td>295.2</td>\n",
       "      <td>3.0</td>\n",
       "    </tr>\n",
       "    <tr>\n",
       "      <th>2021-01-01 00:10:00</th>\n",
       "      <td>1006.7</td>\n",
       "      <td>71.5</td>\n",
       "      <td>0.0</td>\n",
       "      <td>8.3</td>\n",
       "      <td>295.2</td>\n",
       "      <td>3.0</td>\n",
       "    </tr>\n",
       "    <tr>\n",
       "      <th>2021-01-01 00:10:00</th>\n",
       "      <td>1006.7</td>\n",
       "      <td>71.5</td>\n",
       "      <td>0.0</td>\n",
       "      <td>8.3</td>\n",
       "      <td>295.2</td>\n",
       "      <td>3.0</td>\n",
       "    </tr>\n",
       "    <tr>\n",
       "      <th>2021-01-01 00:10:00</th>\n",
       "      <td>1006.7</td>\n",
       "      <td>71.5</td>\n",
       "      <td>0.0</td>\n",
       "      <td>8.3</td>\n",
       "      <td>295.2</td>\n",
       "      <td>3.0</td>\n",
       "    </tr>\n",
       "    <tr>\n",
       "      <th>2021-01-01 00:10:00</th>\n",
       "      <td>1006.7</td>\n",
       "      <td>71.5</td>\n",
       "      <td>0.0</td>\n",
       "      <td>8.3</td>\n",
       "      <td>295.2</td>\n",
       "      <td>3.0</td>\n",
       "    </tr>\n",
       "    <tr>\n",
       "      <th>...</th>\n",
       "      <td>...</td>\n",
       "      <td>...</td>\n",
       "      <td>...</td>\n",
       "      <td>...</td>\n",
       "      <td>...</td>\n",
       "      <td>...</td>\n",
       "    </tr>\n",
       "    <tr>\n",
       "      <th>2021-09-14 05:50:00</th>\n",
       "      <td>1012.8</td>\n",
       "      <td>91.2</td>\n",
       "      <td>0.0</td>\n",
       "      <td>22.6</td>\n",
       "      <td>123.2</td>\n",
       "      <td>0.8</td>\n",
       "    </tr>\n",
       "    <tr>\n",
       "      <th>2021-09-14 05:50:00</th>\n",
       "      <td>1012.8</td>\n",
       "      <td>91.2</td>\n",
       "      <td>0.0</td>\n",
       "      <td>22.6</td>\n",
       "      <td>123.2</td>\n",
       "      <td>0.8</td>\n",
       "    </tr>\n",
       "    <tr>\n",
       "      <th>2021-09-14 05:50:00</th>\n",
       "      <td>1012.8</td>\n",
       "      <td>91.2</td>\n",
       "      <td>0.0</td>\n",
       "      <td>22.6</td>\n",
       "      <td>123.2</td>\n",
       "      <td>0.8</td>\n",
       "    </tr>\n",
       "    <tr>\n",
       "      <th>2021-09-14 05:50:00</th>\n",
       "      <td>1012.8</td>\n",
       "      <td>91.2</td>\n",
       "      <td>0.0</td>\n",
       "      <td>22.6</td>\n",
       "      <td>123.2</td>\n",
       "      <td>0.8</td>\n",
       "    </tr>\n",
       "    <tr>\n",
       "      <th>2021-09-14 05:50:00</th>\n",
       "      <td>1012.8</td>\n",
       "      <td>91.2</td>\n",
       "      <td>0.0</td>\n",
       "      <td>22.6</td>\n",
       "      <td>123.2</td>\n",
       "      <td>0.8</td>\n",
       "    </tr>\n",
       "  </tbody>\n",
       "</table>\n",
       "<p>337702 rows × 6 columns</p>\n",
       "</div>"
      ],
      "text/plain": [
       "                     atmospheric_pressure_value  humidity_level_value  \\\n",
       "record_time                                                             \n",
       "2021-01-01 00:10:00                      1006.7                  71.5   \n",
       "2021-01-01 00:10:00                      1006.7                  71.5   \n",
       "2021-01-01 00:10:00                      1006.7                  71.5   \n",
       "2021-01-01 00:10:00                      1006.7                  71.5   \n",
       "2021-01-01 00:10:00                      1006.7                  71.5   \n",
       "...                                         ...                   ...   \n",
       "2021-09-14 05:50:00                      1012.8                  91.2   \n",
       "2021-09-14 05:50:00                      1012.8                  91.2   \n",
       "2021-09-14 05:50:00                      1012.8                  91.2   \n",
       "2021-09-14 05:50:00                      1012.8                  91.2   \n",
       "2021-09-14 05:50:00                      1012.8                  91.2   \n",
       "\n",
       "                     rain_intensity_value  temperature_value  \\\n",
       "record_time                                                    \n",
       "2021-01-01 00:10:00                   0.0                8.3   \n",
       "2021-01-01 00:10:00                   0.0                8.3   \n",
       "2021-01-01 00:10:00                   0.0                8.3   \n",
       "2021-01-01 00:10:00                   0.0                8.3   \n",
       "2021-01-01 00:10:00                   0.0                8.3   \n",
       "...                                   ...                ...   \n",
       "2021-09-14 05:50:00                   0.0               22.6   \n",
       "2021-09-14 05:50:00                   0.0               22.6   \n",
       "2021-09-14 05:50:00                   0.0               22.6   \n",
       "2021-09-14 05:50:00                   0.0               22.6   \n",
       "2021-09-14 05:50:00                   0.0               22.6   \n",
       "\n",
       "                     wind_direction_value  wind_speed_value  \n",
       "record_time                                                  \n",
       "2021-01-01 00:10:00                 295.2               3.0  \n",
       "2021-01-01 00:10:00                 295.2               3.0  \n",
       "2021-01-01 00:10:00                 295.2               3.0  \n",
       "2021-01-01 00:10:00                 295.2               3.0  \n",
       "2021-01-01 00:10:00                 295.2               3.0  \n",
       "...                                   ...               ...  \n",
       "2021-09-14 05:50:00                 123.2               0.8  \n",
       "2021-09-14 05:50:00                 123.2               0.8  \n",
       "2021-09-14 05:50:00                 123.2               0.8  \n",
       "2021-09-14 05:50:00                 123.2               0.8  \n",
       "2021-09-14 05:50:00                 123.2               0.8  \n",
       "\n",
       "[337702 rows x 6 columns]"
      ]
     },
     "execution_count": 4,
     "metadata": {},
     "output_type": "execute_result"
    }
   ],
   "source": [
    "# Keep interested features\n",
    "weather_raw = weather_raw[weather_features]\n",
    "weather_raw"
   ]
  },
  {
   "cell_type": "markdown",
   "metadata": {},
   "source": [
    "#### Visualization\n",
    "Plot temperature (all observations)"
   ]
  },
  {
   "cell_type": "code",
   "execution_count": 5,
   "metadata": {
    "scrolled": false
   },
   "outputs": [
    {
     "data": {
      "text/plain": [
       "<AxesSubplot:xlabel='record_time'>"
      ]
     },
     "execution_count": 5,
     "metadata": {},
     "output_type": "execute_result"
    },
    {
     "data": {
      "image/png": "[encoded data removed]",
      "text/plain": [
       "<Figure size 432x288 with 1 Axes>"
      ]
     },
     "metadata": {
      "needs_background": "light"
     },
     "output_type": "display_data"
    }
   ],
   "source": [
    "weather_raw[\"temperature_value\"].plot()"
   ]
  },
  {
   "cell_type": "markdown",
   "metadata": {},
   "source": [
    "Plot temperature (June 16 2021)"
   ]
  },
  {
   "cell_type": "code",
   "execution_count": 6,
   "metadata": {},
   "outputs": [
    {
     "data": {
      "text/plain": [
       "<AxesSubplot:xlabel='record_time'>"
      ]
     },
     "execution_count": 6,
     "metadata": {},
     "output_type": "execute_result"
    },
    {
     "data": {
      "image/png": "[encoded data removed]",
      "text/plain": [
       "<Figure size 432x288 with 1 Axes>"
      ]
     },
     "metadata": {
      "needs_background": "light"
     },
     "output_type": "display_data"
    }
   ],
   "source": [
    "weather_raw.loc[\"2021-06-16\"][\"temperature_value\"].plot()"
   ]
  },
  {
   "cell_type": "markdown",
   "metadata": {},
   "source": [
    "### 2. Targets: air_quality_2021\n",
    "Load raw air quality dataset, set record time as index and sort by record time"
   ]
  },
  {
   "cell_type": "code",
   "execution_count": 7,
   "metadata": {},
   "outputs": [],
   "source": [
    "# Load csv file\n",
    "air_raw = pd.read_csv('2021_data/water_quality_data_2021.csv', header=0)\n",
    "# Distinguish samples from 2 air stations.\n",
    "air_raw[\"record_time\"] = pd.to_datetime(air_raw[\"record_time\"])\n",
    "air_raw = air_raw.sort_values(by = 'id_probe')\n",
    "air_raw = air_raw.set_index(\"id_probe\")"
   ]
  },
  {
   "cell_type": "code",
   "execution_count": 8,
   "metadata": {},
   "outputs": [
    {
     "data": {
      "text/html": [
       "<div>\n",
       "<style scoped>\n",
       "    .dataframe tbody tr th:only-of-type {\n",
       "        vertical-align: middle;\n",
       "    }\n",
       "\n",
       "    .dataframe tbody tr th {\n",
       "        vertical-align: top;\n",
       "    }\n",
       "\n",
       "    .dataframe thead th {\n",
       "        text-align: right;\n",
       "    }\n",
       "</style>\n",
       "<table border=\"1\" class=\"dataframe\">\n",
       "  <thead>\n",
       "    <tr style=\"text-align: right;\">\n",
       "      <th></th>\n",
       "      <th>id</th>\n",
       "      <th>no2</th>\n",
       "      <th>pm_1</th>\n",
       "      <th>pm_10</th>\n",
       "      <th>pm_2_5</th>\n",
       "      <th>pressure</th>\n",
       "      <th>record_time</th>\n",
       "      <th>rh</th>\n",
       "      <th>so2</th>\n",
       "      <th>temp</th>\n",
       "    </tr>\n",
       "    <tr>\n",
       "      <th>id_probe</th>\n",
       "      <th></th>\n",
       "      <th></th>\n",
       "      <th></th>\n",
       "      <th></th>\n",
       "      <th></th>\n",
       "      <th></th>\n",
       "      <th></th>\n",
       "      <th></th>\n",
       "      <th></th>\n",
       "      <th></th>\n",
       "    </tr>\n",
       "  </thead>\n",
       "  <tbody>\n",
       "    <tr>\n",
       "      <th>868</th>\n",
       "      <td>1275117</td>\n",
       "      <td>17.782</td>\n",
       "      <td>6.210</td>\n",
       "      <td>8.265</td>\n",
       "      <td>7.283</td>\n",
       "      <td>1006.86</td>\n",
       "      <td>2021-01-01 00:03:00</td>\n",
       "      <td>58.384</td>\n",
       "      <td>5.366</td>\n",
       "      <td>9.344</td>\n",
       "    </tr>\n",
       "    <tr>\n",
       "      <th>868</th>\n",
       "      <td>1642972</td>\n",
       "      <td>7.873</td>\n",
       "      <td>6.210</td>\n",
       "      <td>13.904</td>\n",
       "      <td>8.607</td>\n",
       "      <td>1022.52</td>\n",
       "      <td>2021-05-26 01:35:00</td>\n",
       "      <td>46.419</td>\n",
       "      <td>4.446</td>\n",
       "      <td>16.659</td>\n",
       "    </tr>\n",
       "    <tr>\n",
       "      <th>868</th>\n",
       "      <td>1642971</td>\n",
       "      <td>7.634</td>\n",
       "      <td>6.279</td>\n",
       "      <td>14.064</td>\n",
       "      <td>8.699</td>\n",
       "      <td>1022.52</td>\n",
       "      <td>2021-05-26 01:36:00</td>\n",
       "      <td>46.631</td>\n",
       "      <td>4.404</td>\n",
       "      <td>16.648</td>\n",
       "    </tr>\n",
       "    <tr>\n",
       "      <th>868</th>\n",
       "      <td>1642970</td>\n",
       "      <td>7.395</td>\n",
       "      <td>6.347</td>\n",
       "      <td>14.247</td>\n",
       "      <td>8.790</td>\n",
       "      <td>1022.51</td>\n",
       "      <td>2021-05-26 01:37:00</td>\n",
       "      <td>46.563</td>\n",
       "      <td>4.361</td>\n",
       "      <td>16.648</td>\n",
       "    </tr>\n",
       "    <tr>\n",
       "      <th>868</th>\n",
       "      <td>1642969</td>\n",
       "      <td>7.156</td>\n",
       "      <td>6.416</td>\n",
       "      <td>14.429</td>\n",
       "      <td>8.904</td>\n",
       "      <td>1022.51</td>\n",
       "      <td>2021-05-26 01:38:00</td>\n",
       "      <td>46.672</td>\n",
       "      <td>4.364</td>\n",
       "      <td>16.616</td>\n",
       "    </tr>\n",
       "    <tr>\n",
       "      <th>...</th>\n",
       "      <td>...</td>\n",
       "      <td>...</td>\n",
       "      <td>...</td>\n",
       "      <td>...</td>\n",
       "      <td>...</td>\n",
       "      <td>...</td>\n",
       "      <td>...</td>\n",
       "      <td>...</td>\n",
       "      <td>...</td>\n",
       "      <td>...</td>\n",
       "    </tr>\n",
       "    <tr>\n",
       "      <th>869</th>\n",
       "      <td>1411046</td>\n",
       "      <td>1.699</td>\n",
       "      <td>9.170</td>\n",
       "      <td>21.864</td>\n",
       "      <td>14.503</td>\n",
       "      <td>1021.68</td>\n",
       "      <td>2021-02-19 06:05:00</td>\n",
       "      <td>68.618</td>\n",
       "      <td>1.783</td>\n",
       "      <td>13.247</td>\n",
       "    </tr>\n",
       "    <tr>\n",
       "      <th>869</th>\n",
       "      <td>1682047</td>\n",
       "      <td>4.698</td>\n",
       "      <td>3.129</td>\n",
       "      <td>5.959</td>\n",
       "      <td>4.381</td>\n",
       "      <td>1019.70</td>\n",
       "      <td>2021-06-08 21:09:00</td>\n",
       "      <td>37.944</td>\n",
       "      <td>0.000</td>\n",
       "      <td>26.450</td>\n",
       "    </tr>\n",
       "    <tr>\n",
       "      <th>869</th>\n",
       "      <td>1682046</td>\n",
       "      <td>5.086</td>\n",
       "      <td>3.143</td>\n",
       "      <td>6.014</td>\n",
       "      <td>4.422</td>\n",
       "      <td>1019.67</td>\n",
       "      <td>2021-06-08 21:10:00</td>\n",
       "      <td>37.854</td>\n",
       "      <td>0.000</td>\n",
       "      <td>26.460</td>\n",
       "    </tr>\n",
       "    <tr>\n",
       "      <th>869</th>\n",
       "      <td>1682057</td>\n",
       "      <td>7.619</td>\n",
       "      <td>3.333</td>\n",
       "      <td>6.163</td>\n",
       "      <td>4.776</td>\n",
       "      <td>1019.58</td>\n",
       "      <td>2021-06-08 21:20:00</td>\n",
       "      <td>38.105</td>\n",
       "      <td>0.000</td>\n",
       "      <td>26.300</td>\n",
       "    </tr>\n",
       "    <tr>\n",
       "      <th>869</th>\n",
       "      <td>1956180</td>\n",
       "      <td>7.377</td>\n",
       "      <td>6.898</td>\n",
       "      <td>11.170</td>\n",
       "      <td>9.388</td>\n",
       "      <td>1013.22</td>\n",
       "      <td>2021-09-14 06:54:00</td>\n",
       "      <td>60.799</td>\n",
       "      <td>0.000</td>\n",
       "      <td>28.058</td>\n",
       "    </tr>\n",
       "  </tbody>\n",
       "</table>\n",
       "<p>681061 rows × 10 columns</p>\n",
       "</div>"
      ],
      "text/plain": [
       "               id     no2   pm_1   pm_10  pm_2_5  pressure  \\\n",
       "id_probe                                                     \n",
       "868       1275117  17.782  6.210   8.265   7.283   1006.86   \n",
       "868       1642972   7.873  6.210  13.904   8.607   1022.52   \n",
       "868       1642971   7.634  6.279  14.064   8.699   1022.52   \n",
       "868       1642970   7.395  6.347  14.247   8.790   1022.51   \n",
       "868       1642969   7.156  6.416  14.429   8.904   1022.51   \n",
       "...           ...     ...    ...     ...     ...       ...   \n",
       "869       1411046   1.699  9.170  21.864  14.503   1021.68   \n",
       "869       1682047   4.698  3.129   5.959   4.381   1019.70   \n",
       "869       1682046   5.086  3.143   6.014   4.422   1019.67   \n",
       "869       1682057   7.619  3.333   6.163   4.776   1019.58   \n",
       "869       1956180   7.377  6.898  11.170   9.388   1013.22   \n",
       "\n",
       "                 record_time      rh    so2    temp  \n",
       "id_probe                                             \n",
       "868      2021-01-01 00:03:00  58.384  5.366   9.344  \n",
       "868      2021-05-26 01:35:00  46.419  4.446  16.659  \n",
       "868      2021-05-26 01:36:00  46.631  4.404  16.648  \n",
       "868      2021-05-26 01:37:00  46.563  4.361  16.648  \n",
       "868      2021-05-26 01:38:00  46.672  4.364  16.616  \n",
       "...                      ...     ...    ...     ...  \n",
       "869      2021-02-19 06:05:00  68.618  1.783  13.247  \n",
       "869      2021-06-08 21:09:00  37.944  0.000  26.450  \n",
       "869      2021-06-08 21:10:00  37.854  0.000  26.460  \n",
       "869      2021-06-08 21:20:00  38.105  0.000  26.300  \n",
       "869      2021-09-14 06:54:00  60.799  0.000  28.058  \n",
       "\n",
       "[681061 rows x 10 columns]"
      ]
     },
     "execution_count": 8,
     "metadata": {},
     "output_type": "execute_result"
    }
   ],
   "source": [
    "air_raw"
   ]
  },
  {
   "cell_type": "code",
   "execution_count": 9,
   "metadata": {},
   "outputs": [],
   "source": [
    "# Air position 1, sort by \"record_time\"\n",
    "air_pos_1 = air_raw.loc[868]\n",
    "air_pos_1 = air_pos_1.sort_values(by = 'record_time')\n",
    "air_pos_1 = air_pos_1.set_index(\"record_time\")\n",
    "\n",
    "# Air position 2, sort by \"record_time\"\n",
    "air_pos_2 = air_raw.loc[869]\n",
    "air_pos_2 = air_pos_2.sort_values(by = 'record_time')\n",
    "air_pos_2 = air_pos_2.set_index(\"record_time\")"
   ]
  },
  {
   "cell_type": "code",
   "execution_count": 10,
   "metadata": {},
   "outputs": [],
   "source": [
    "# Keep interested targets, in this example pm10.\n",
    "air_features = [\"pm_10\", \"pm_2_5\"]\n",
    "air_pos_1 = air_pos_1[air_features]\n",
    "air_pos_2 = air_pos_2[air_features]"
   ]
  },
  {
   "cell_type": "code",
   "execution_count": 11,
   "metadata": {
    "scrolled": false
   },
   "outputs": [
    {
     "data": {
      "text/html": [
       "<div>\n",
       "<style scoped>\n",
       "    .dataframe tbody tr th:only-of-type {\n",
       "        vertical-align: middle;\n",
       "    }\n",
       "\n",
       "    .dataframe tbody tr th {\n",
       "        vertical-align: top;\n",
       "    }\n",
       "\n",
       "    .dataframe thead th {\n",
       "        text-align: right;\n",
       "    }\n",
       "</style>\n",
       "<table border=\"1\" class=\"dataframe\">\n",
       "  <thead>\n",
       "    <tr style=\"text-align: right;\">\n",
       "      <th></th>\n",
       "      <th>pm_10</th>\n",
       "      <th>pm_2_5</th>\n",
       "    </tr>\n",
       "    <tr>\n",
       "      <th>record_time</th>\n",
       "      <th></th>\n",
       "      <th></th>\n",
       "    </tr>\n",
       "  </thead>\n",
       "  <tbody>\n",
       "    <tr>\n",
       "      <th>2021-01-01 00:01:00</th>\n",
       "      <td>8.425</td>\n",
       "      <td>7.466</td>\n",
       "    </tr>\n",
       "    <tr>\n",
       "      <th>2021-01-01 00:02:00</th>\n",
       "      <td>8.333</td>\n",
       "      <td>7.374</td>\n",
       "    </tr>\n",
       "    <tr>\n",
       "      <th>2021-01-01 00:03:00</th>\n",
       "      <td>8.265</td>\n",
       "      <td>7.283</td>\n",
       "    </tr>\n",
       "    <tr>\n",
       "      <th>2021-01-01 00:04:00</th>\n",
       "      <td>8.219</td>\n",
       "      <td>7.192</td>\n",
       "    </tr>\n",
       "    <tr>\n",
       "      <th>2021-01-01 00:05:00</th>\n",
       "      <td>8.174</td>\n",
       "      <td>7.078</td>\n",
       "    </tr>\n",
       "    <tr>\n",
       "      <th>...</th>\n",
       "      <td>...</td>\n",
       "      <td>...</td>\n",
       "    </tr>\n",
       "    <tr>\n",
       "      <th>2021-09-14 06:58:00</th>\n",
       "      <td>18.257</td>\n",
       "      <td>14.218</td>\n",
       "    </tr>\n",
       "    <tr>\n",
       "      <th>2021-09-14 06:59:00</th>\n",
       "      <td>18.333</td>\n",
       "      <td>14.292</td>\n",
       "    </tr>\n",
       "    <tr>\n",
       "      <th>2021-09-14 07:01:00</th>\n",
       "      <td>18.422</td>\n",
       "      <td>14.360</td>\n",
       "    </tr>\n",
       "    <tr>\n",
       "      <th>2021-09-14 07:02:00</th>\n",
       "      <td>18.469</td>\n",
       "      <td>14.384</td>\n",
       "    </tr>\n",
       "    <tr>\n",
       "      <th>2021-09-14 07:03:00</th>\n",
       "      <td>18.493</td>\n",
       "      <td>14.384</td>\n",
       "    </tr>\n",
       "  </tbody>\n",
       "</table>\n",
       "<p>348593 rows × 2 columns</p>\n",
       "</div>"
      ],
      "text/plain": [
       "                      pm_10  pm_2_5\n",
       "record_time                        \n",
       "2021-01-01 00:01:00   8.425   7.466\n",
       "2021-01-01 00:02:00   8.333   7.374\n",
       "2021-01-01 00:03:00   8.265   7.283\n",
       "2021-01-01 00:04:00   8.219   7.192\n",
       "2021-01-01 00:05:00   8.174   7.078\n",
       "...                     ...     ...\n",
       "2021-09-14 06:58:00  18.257  14.218\n",
       "2021-09-14 06:59:00  18.333  14.292\n",
       "2021-09-14 07:01:00  18.422  14.360\n",
       "2021-09-14 07:02:00  18.469  14.384\n",
       "2021-09-14 07:03:00  18.493  14.384\n",
       "\n",
       "[348593 rows x 2 columns]"
      ]
     },
     "execution_count": 11,
     "metadata": {},
     "output_type": "execute_result"
    }
   ],
   "source": [
    "air_pos_1"
   ]
  },
  {
   "cell_type": "markdown",
   "metadata": {},
   "source": [
    "### Data prepare\n",
    "In this example, we will train a Machine Learning models to predict average PM10 over 24 hours for day 2 and day 3.\n",
    "Pack the dataset according to day: put together data with the same date, calculate daily mean value of each features.  \n",
    "\n",
    "**Use pandas DataFrame.resample() method to resample dataset according to your need.**"
   ]
  },
  {
   "cell_type": "markdown",
   "metadata": {},
   "source": [
    "[Resample](https://pandas.pydata.org/docs/reference/api/pandas.DataFrame.resample.html) the dataset by day, this operation will reduce the number of samples, you can choose other options like 'H'(1 hour) or '2H'(2 hours) to avoid loosing too much infomation."
   ]
  },
  {
   "cell_type": "code",
   "execution_count": 12,
   "metadata": {},
   "outputs": [
    {
     "name": "stdout",
     "output_type": "stream",
     "text": [
      "(257, 6)\n",
      "(257, 2)\n"
     ]
    }
   ],
   "source": [
    "air_pos_1_day = air_pos_1.resample('D').mean()\n",
    "weather_day = weather_raw.resample('D').mean()\n",
    "print(weather_day.values.shape)\n",
    "print(air_pos_1_day.values.shape)"
   ]
  },
  {
   "cell_type": "code",
   "execution_count": 13,
   "metadata": {},
   "outputs": [],
   "source": [
    "pm10_targets = air_pos_1_day.values[:,0]"
   ]
  },
  {
   "cell_type": "code",
   "execution_count": 14,
   "metadata": {},
   "outputs": [
    {
     "name": "stdout",
     "output_type": "stream",
     "text": [
      "257 days\n"
     ]
    }
   ],
   "source": [
    "days = weather_day.values.shape[0]\n",
    "print(\"%d days\"%days)"
   ]
  },
  {
   "cell_type": "markdown",
   "metadata": {},
   "source": [
    "Use average value over 24 hours of weather features of day1 and day2 to predict average PM10 value over 24 hours of day 3 at position 1."
   ]
  },
  {
   "cell_type": "code",
   "execution_count": 15,
   "metadata": {},
   "outputs": [
    {
     "name": "stdout",
     "output_type": "stream",
     "text": [
      "(255, 12)\n"
     ]
    }
   ],
   "source": [
    "features = []\n",
    "for day in range(days-2):\n",
    "    feature_1 = weather_day.values[day,:]\n",
    "    feature_2 = weather_day.values[day + 1, :]\n",
    "    features.append(np.append(feature_1, feature_2))\n",
    "features = np.array(features)\n",
    "\n",
    "print(features.shape)"
   ]
  },
  {
   "cell_type": "code",
   "execution_count": 16,
   "metadata": {},
   "outputs": [
    {
     "name": "stdout",
     "output_type": "stream",
     "text": [
      "(255,)\n"
     ]
    }
   ],
   "source": [
    "targets = air_pos_1_day.values[2:,0]\n",
    "print(targets.shape)"
   ]
  },
  {
   "cell_type": "markdown",
   "metadata": {},
   "source": [
    "Remove NaN values"
   ]
  },
  {
   "cell_type": "code",
   "execution_count": 17,
   "metadata": {},
   "outputs": [],
   "source": [
    "# find indexes of NaN values in targets or features\n",
    "def nan_index(targets, features):\n",
    "    nan_targets = np.where(np.isnan(targets))[0]\n",
    "    nan_features = []\n",
    "    ind = 0\n",
    "    for check in np.isnan(features):\n",
    "        if True in check:\n",
    "            nan_features.append(ind)\n",
    "        ind += 1\n",
    "    nan_features = np.array(nan_features)\n",
    "    indexes = np.unique(np.append(nan_targets, nan_features))\n",
    "    return indexes"
   ]
  },
  {
   "cell_type": "code",
   "execution_count": 18,
   "metadata": {},
   "outputs": [
    {
     "name": "stdout",
     "output_type": "stream",
     "text": [
      "X shape: (228, 12)\n",
      "y shape: (228,)\n"
     ]
    }
   ],
   "source": [
    "indexes = nan_index(targets, features)\n",
    "y = np.delete(targets, indexes)\n",
    "X = np.delete(features, indexes, axis=0)\n",
    "\n",
    "print(\"X shape: \" + str(np.shape(X)))\n",
    "print(\"y shape: \" + str(np.shape(y)))"
   ]
  },
  {
   "cell_type": "markdown",
   "metadata": {},
   "source": [
    "#### Split dataset to train and test sets.\n",
    "Find more examples from Scikit-Learn [tutorial](https://scikit-learn.org/stable/supervised_learning.html) or other resources."
   ]
  },
  {
   "cell_type": "code",
   "execution_count": 19,
   "metadata": {},
   "outputs": [],
   "source": [
    "from sklearn.model_selection import train_test_split\n",
    "from sklearn.metrics import mean_absolute_error\n",
    "from sklearn import preprocessing\n",
    "\n",
    "X_train, X_test, y_train, y_test = train_test_split(X, y, test_size=0.15)\n"
   ]
  },
  {
   "cell_type": "markdown",
   "metadata": {},
   "source": [
    "Model: SVR (Support Vector Regression)"
   ]
  },
  {
   "cell_type": "code",
   "execution_count": 20,
   "metadata": {},
   "outputs": [
    {
     "data": {
      "image/png": "[encoded data removed]",
      "text/plain": [
       "<Figure size 432x288 with 1 Axes>"
      ]
     },
     "metadata": {
      "needs_background": "light"
     },
     "output_type": "display_data"
    }
   ],
   "source": [
    "from sklearn.svm import SVR\n",
    "model = SVR()\n",
    "model.fit(X_train, y_train)\n",
    "y_pred = model.predict(X_test)\n",
    "mean_absolute_error(y_pred, y_test)\n",
    "plt.plot(y_test)\n",
    "plt.plot(y_pred)\n",
    "plt.legend(('true value','prediction'))\n",
    "plt.xlabel(\"Samples\")\n",
    "plt.ylabel(\"PM10\")\n",
    "plt.show()"
   ]
  },
  {
   "cell_type": "markdown",
   "metadata": {},
   "source": [
    "Model: K Neighbors Regression"
   ]
  },
  {
   "cell_type": "code",
   "execution_count": 21,
   "metadata": {},
   "outputs": [
    {
     "data": {
      "image/png": "[encoded data removed]",
      "text/plain": [
       "<Figure size 432x288 with 1 Axes>"
      ]
     },
     "metadata": {
      "needs_background": "light"
     },
     "output_type": "display_data"
    }
   ],
   "source": [
    "from sklearn.neighbors import KNeighborsRegressor\n",
    "\n",
    "X_scaled = preprocessing.scale(X_train)\n",
    "y_scaled = preprocessing.scale(y_train)\n",
    "model = KNeighborsRegressor()\n",
    "history = model.fit(X_train, y_train)\n",
    "y_pred = model.predict(X_test)\n",
    "mean_absolute_error(y_test, y_pred)\n",
    "plt.plot(y_test)\n",
    "plt.plot(y_pred)\n",
    "plt.legend(('true value','prediction'))\n",
    "plt.xlabel(\"Samples\")\n",
    "plt.ylabel(\"PM10\")\n",
    "plt.show()"
   ]
  },
  {
   "cell_type": "markdown",
   "metadata": {},
   "source": [
    "Model: Linear Regression"
   ]
  },
  {
   "cell_type": "code",
   "execution_count": 22,
   "metadata": {},
   "outputs": [
    {
     "name": "stdout",
     "output_type": "stream",
     "text": [
      "20.701497972410074\n"
     ]
    },
    {
     "data": {
      "image/png": "[encoded data removed]",
      "text/plain": [
       "<Figure size 432x288 with 1 Axes>"
      ]
     },
     "metadata": {
      "needs_background": "light"
     },
     "output_type": "display_data"
    }
   ],
   "source": [
    "from sklearn.linear_model import LinearRegression\n",
    "model = LinearRegression()\n",
    "model.fit(X_train, y_train)\n",
    "model.score(X_test, y_test)\n",
    "y_pred = model.predict(X_test)\n",
    "print(mean_absolute_error(y_test, y_pred))\n",
    "plt.plot(y_test)\n",
    "plt.plot(y_pred)\n",
    "plt.legend(('true value','prediction'))\n",
    "plt.xlabel(\"Samples\")\n",
    "plt.ylabel(\"PM10\")\n",
    "plt.show()"
   ]
  },
  {
   "cell_type": "markdown",
   "metadata": {},
   "source": [
    "Model: Random Forest Regressor"
   ]
  },
  {
   "cell_type": "code",
   "execution_count": 23,
   "metadata": {},
   "outputs": [
    {
     "name": "stdout",
     "output_type": "stream",
     "text": [
      "14.752553454765007\n"
     ]
    },
    {
     "data": {
      "image/png": "[encoded data removed]",
      "text/plain": [
       "<Figure size 432x288 with 1 Axes>"
      ]
     },
     "metadata": {
      "needs_background": "light"
     },
     "output_type": "display_data"
    }
   ],
   "source": [
    "from sklearn.ensemble import RandomForestRegressor\n",
    "model = RandomForestRegressor(n_estimators=100)\n",
    "model.fit(X_train, y_train)\n",
    "model.score(X_test, y_test)\n",
    "y_pred = model.predict(X_test)\n",
    "print(mean_absolute_error(y_test, y_pred))\n",
    "plt.plot(y_test)\n",
    "plt.plot(y_pred)\n",
    "plt.legend(('true value','prediction'))\n",
    "plt.xlabel(\"Samples\")\n",
    "plt.ylabel(\"PM10\")\n",
    "plt.show()"
   ]
  },
  {
   "cell_type": "markdown",
   "metadata": {},
   "source": [
    "Model: Multi layer perception regression (Neural Network)"
   ]
  },
  {
   "cell_type": "code",
   "execution_count": 24,
   "metadata": {},
   "outputs": [
    {
     "data": {
      "text/plain": [
       "MLPRegressor(hidden_layer_sizes=(6, 2), max_iter=5000, random_state=1)"
      ]
     },
     "execution_count": 24,
     "metadata": {},
     "output_type": "execute_result"
    }
   ],
   "source": [
    "from sklearn.neural_network import MLPRegressor\n",
    "\n",
    "model = MLPRegressor(\n",
    "    hidden_layer_sizes=(6,2),  activation='relu', solver='adam', alpha=0.0001, batch_size='auto',\n",
    "    learning_rate='constant', learning_rate_init=0.001, power_t=0.5, max_iter=5000, shuffle=True,\n",
    "    random_state=1, tol=0.0001, verbose=False, warm_start=False, momentum=0.9, nesterovs_momentum=True,\n",
    "    early_stopping=False,beta_1=0.9, beta_2=0.999, epsilon=1e-08)\n",
    "model.fit(X_train, y_train)\n"
   ]
  },
  {
   "cell_type": "code",
   "execution_count": 25,
   "metadata": {},
   "outputs": [
    {
     "name": "stdout",
     "output_type": "stream",
     "text": [
      "17.459442874924253\n"
     ]
    },
    {
     "data": {
      "image/png": "[encoded data removed]",
      "text/plain": [
       "<Figure size 432x288 with 1 Axes>"
      ]
     },
     "metadata": {
      "needs_background": "light"
     },
     "output_type": "display_data"
    }
   ],
   "source": [
    "y_pred = model.predict(X_test)\n",
    "print(mean_absolute_error(y_test, y_pred))\n",
    "plt.plot(y_test)\n",
    "plt.plot(y_pred)\n",
    "plt.legend(('true value','prediction'))\n",
    "plt.xlabel(\"Samples\")\n",
    "plt.ylabel(\"PM10\")\n",
    "\n",
    "plt.show()"
   ]
  },
  {
   "cell_type": "code",
   "execution_count": 26,
   "metadata": {},
   "outputs": [
    {
     "name": "stdout",
     "output_type": "stream",
     "text": [
      "15.08049060176115\n"
     ]
    },
    {
     "data": {
      "image/png": "[encoded data removed]",
      "text/plain": [
       "<Figure size 432x288 with 1 Axes>"
      ]
     },
     "metadata": {
      "needs_background": "light"
     },
     "output_type": "display_data"
    }
   ],
   "source": [
    "from sklearn.tree import DecisionTreeRegressor\n",
    "model = DecisionTreeRegressor(max_depth=5)\n",
    "model.fit(X_train, y_train)\n",
    "y_pred = model.predict(X_test)\n",
    "print(mean_absolute_error(y_test, y_pred))\n",
    "plt.plot(y_test)\n",
    "plt.plot(y_pred)\n",
    "plt.legend(('true value','prediction'))\n",
    "plt.xlabel(\"Samples\")\n",
    "plt.ylabel(\"PM10\")\n",
    "\n",
    "plt.show()"
   ]
  },
  {
   "cell_type": "markdown",
   "metadata": {},
   "source": [
    "## Objective：\n",
    "* Make the dataset according to your need and strategy.\n",
    "* Decide your learning approach (direct or recursive, or maybe try both.)\n",
    "* Try different "
   ]
  },
  {
   "cell_type": "code",
   "execution_count": null,
   "metadata": {},
   "outputs": [],
   "source": []
  }
 ],
 "metadata": {
  "kernelspec": {
   "display_name": "Python 3",
   "language": "python",
   "name": "python3"
  },
  "language_info": {
   "codemirror_mode": {
    "name": "ipython",
    "version": 3
   },
   "file_extension": ".py",
   "mimetype": "text/x-python",
   "name": "python",
   "nbconvert_exporter": "python",
   "pygments_lexer": "ipython3",
   "version": "3.6.9"
  }
 },
 "nbformat": 4,
 "nbformat_minor": 4
}
